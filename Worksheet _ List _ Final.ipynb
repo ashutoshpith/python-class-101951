{
 "cells": [
  {
   "cell_type": "code",
   "execution_count": null,
   "metadata": {
    "collapsed": true
   },
   "outputs": [],
   "source": [
    "Question List-1 :    \n",
    "# Preliminary - 1\n",
    "    \n",
    "    \n",
    "    Create a list named wordList that contains the following words: \"washington\", \"lee\", \"generals\", \"arlington\", \"virginia\"\n",
    "    Print out the first element in wordList\n",
    "    Print out the length of the list by using len(wordList)\n",
    "    Print out the last element in wordList by using wordList[len(wordList)-1]\n",
    "    Print out the word \"generals\" in the list"
   ]
  },
  {
   "cell_type": "code",
   "execution_count": 7,
   "metadata": {},
   "outputs": [
    {
     "name": "stdout",
     "output_type": "stream",
     "text": [
      "washington\n",
      "5\n",
      "virginia\n",
      "generals\n"
     ]
    }
   ],
   "source": [
    "# Solution  List-1 :\n",
    "                    ### Write your solution here###\n",
    "li = [\"washington\", \"lee\", \"generals\", \"arlington\", \"virginia\"]\n",
    "print(li[0])\n",
    "print(len(li))\n",
    "print(li[len(li)-1])\n",
    "print(li[2])"
   ]
  },
  {
   "cell_type": "code",
   "execution_count": null,
   "metadata": {
    "collapsed": true
   },
   "outputs": [],
   "source": [
    "Question List-2: \n",
    "# Preliminary - 2\n",
    "\n",
    "    Create a list named numList with the following numbers 3, 1, 7, 6, 4, 1, 1, 5, 4, 7, 9, 0, 9, 7, 7, 43, 2, 6, 87, 67, 4, 2, 532\n",
    "    \n",
    "    Print out the last element in numList using len(numList)-1\n",
    "   \n",
    "    Print out the middle element in numList using len(numList) // 2 (the double division sign is intentional--it automatically rounds down)\n",
    "    \n",
    "    Write a loop that goes from 0 up to len(numList) that prints out ALL the elements in numList\n",
    "    \n",
    "    Write a loop that goes from len(numList)-1 down through 0 and prints numList in reverse order\n",
    "    \n",
    "    Write a loop that prints out all the numbers in numList that are greater than 10\n",
    "    \n",
    "    Write a loop that prints out all the numbers in numList that are even  and ODD (HINT: if numList[x]%2 == 0)"
   ]
  },
  {
   "cell_type": "code",
   "execution_count": 22,
   "metadata": {},
   "outputs": [
    {
     "name": "stdout",
     "output_type": "stream",
     "text": [
      "532\n",
      "11\n",
      "-----------\n",
      "0\n",
      "1\n",
      "2\n",
      "3\n",
      "4\n",
      "5\n",
      "6\n",
      "7\n",
      "8\n",
      "9\n",
      "10\n",
      "11\n",
      "12\n",
      "13\n",
      "14\n",
      "15\n",
      "16\n",
      "17\n",
      "18\n",
      "19\n",
      "20\n",
      "21\n",
      "22\n",
      "-----------\n",
      "------\n",
      "11\n",
      "12\n",
      "13\n",
      "14\n",
      "15\n",
      "16\n",
      "17\n",
      "18\n",
      "19\n",
      "20\n",
      "21\n",
      "22\n",
      "------\n",
      "odd\n",
      "odd\n",
      "odd\n",
      "even\n",
      "even\n",
      "odd\n",
      "odd\n",
      "odd\n",
      "even\n",
      "odd\n",
      "odd\n",
      "even\n",
      "odd\n",
      "odd\n",
      "odd\n",
      "odd\n",
      "even\n",
      "even\n",
      "odd\n",
      "odd\n",
      "even\n",
      "even\n",
      "even\n",
      "------\n"
     ]
    }
   ],
   "source": [
    "# Solution  List-2 :\n",
    "                    ### Write your solution here###\n",
    "numList = [3, 1, 7, 6, 4, 1, 1, 5, 4, 7, 9, 0, 9, 7, 7, 43, 2, 6, 87, 67, 4, 2, 532]\n",
    "print(numList[len(numList)-1])\n",
    "print(len(numList)//2)\n",
    "print('-----------')\n",
    "for i in range(len(numList)):\n",
    "    print(i)\n",
    "print('-----------')\n",
    "for i in range(len(numList)-1, 0):\n",
    "    print(i)\n",
    "print('------')\n",
    "for i in range(0, len(numList)):\n",
    "    if i>10:\n",
    "        print(i)\n",
    "print('------')\n",
    "\n",
    "for i in range(0, len(numList)):\n",
    "    if numList[i]%2 ==0:\n",
    "        print('even')\n",
    "    else:\n",
    "        print('odd')\n",
    "print('------')\n"
   ]
  },
  {
   "cell_type": "code",
   "execution_count": null,
   "metadata": {
    "collapsed": true
   },
   "outputs": [],
   "source": [
    "Question List-3\n",
    "# Basic - 1\n",
    "\n",
    "Adding and removing elements:\n",
    "\n",
    "    Create an empty list [] named myList\n",
    "    Add the following words to myList by using myList.append( WORD ) for each of the words:\n",
    "        \"The\"\n",
    "        \"quick\"\n",
    "        \"brown\"\n",
    "        \"fox\"\n",
    "        \"jumps\"\n",
    "        \"over\"\n",
    "        \"the\"\n",
    "        \"lazy\"\n",
    "        \"dog\"\n",
    "    Print myList to see if all the words were added\n",
    "    Delete the word \"brown\" from the list by using del myList[ LOCATION ]\n",
    "    Now delete the word \"over\"\n",
    "    Print myList again to see if the right words were deleted"
   ]
  },
  {
   "cell_type": "code",
   "execution_count": 38,
   "metadata": {},
   "outputs": [
    {
     "name": "stdout",
     "output_type": "stream",
     "text": [
      "['The', 'quick', 'brown', 'fox', 'jumps', 'over', 'the', 'lazy', 'dog']\n",
      "['The', 'quick', 'fox', 'jumps', 'over', 'the', 'lazy', 'dog']\n",
      "['The', 'quick', 'fox', 'jumps', 'the', 'lazy', 'dog']\n"
     ]
    }
   ],
   "source": [
    "# Solution  List-3:\n",
    "                    ### Write your solution here###\n",
    "myList = []\n",
    "words = (\"The\",\"quick\",\"brown\",\"fox\",\"jumps\",\"over\",\"the\",\"lazy\",\"dog\")\n",
    "list(words)\n",
    "for w in words:\n",
    "    myList.append(w)\n",
    "print(myList)\n",
    "del(myList[2])\n",
    "print(myList)\n",
    "del(myList[4])\n",
    "print(myList)\n"
   ]
  },
  {
   "cell_type": "code",
   "execution_count": null,
   "metadata": {
    "collapsed": true
   },
   "outputs": [],
   "source": [
    "Question List 4:\n",
    "\n",
    "#Basic - 2\n",
    "\n",
    "Write a loop to iterate to the list and print the greatest number . [Hint]Get the input for the list.\n",
    "\n",
    "Write a program to print the words starting with the alphabet along with its count: W , S . \n",
    "    \n",
    "Write a function which finds the averages of a list of number using a for loop "
   ]
  },
  {
   "cell_type": "code",
   "execution_count": null,
   "metadata": {
    "collapsed": true
   },
   "outputs": [],
   "source": [
    "# Solution  List-4:\n",
    "                    ### Write your solution here###"
   ]
  },
  {
   "cell_type": "markdown",
   "metadata": {},
   "source": [
    "# Question List -5:\n",
    "\n",
    "#Intermediate Programs - 2"
   ]
  },
  {
   "cell_type": "code",
   "execution_count": null,
   "metadata": {
    "collapsed": true
   },
   "outputs": [],
   "source": [
    "\n",
    "Write a program to get list as input and pass an argument to a function Demo toReturn a new list which contains\n",
    "doubles of the elements in a_list.\n",
    "   \n",
    "# Solution  :\n",
    "                    ### Write your solution here###\n",
    "    \n"
   ]
  },
  {
   "cell_type": "code",
   "execution_count": null,
   "metadata": {
    "collapsed": true
   },
   "outputs": [],
   "source": [
    "Take two lists, say for example these two:\n",
    "\n",
    "\ta = [1, 1, 2, 3, 5, 8, 13, 21, 34, 55, 89]\n",
    "\tb = [1, 2, 3, 4, 5, 6, 7, 8, 9, 10, 11, 12, 13]\n",
    "\n",
    "write a py program that returns a list,Newlist which contains only the elements \n",
    "that are common between the lists and duplication not allowed.\n",
    "Program should work with list of different size.\n",
    "\n",
    "# Solution  :\n",
    "                    ### Write your solution here###\n",
    "    "
   ]
  },
  {
   "cell_type": "code",
   "execution_count": null,
   "metadata": {
    "collapsed": true
   },
   "outputs": [],
   "source": [
    "Write program to split Python List Into Evenly Sized chunk [Hint : Zip , Iter ]\n",
    "INPUT: [1,2,3,4,5,6,7,8,9]\n",
    "OUTPUT : [(1, 2, 3), (4, 5, 6), (7, 8, 9)]\n",
    "    \n",
    "# Solution  :\n",
    "                    ### Write your solution here###\n",
    "    \n",
    "    \n"
   ]
  },
  {
   "cell_type": "code",
   "execution_count": null,
   "metadata": {
    "collapsed": true
   },
   "outputs": [],
   "source": [
    "Write a program to make a simple new list out of list within list ? [Hint : Sum]\n",
    "Input : L = [[1,2],[3,4],[5,6]]\n",
    "Output : [1,2,3,4,5,6]\n",
    "\n",
    "# Solution  :\n",
    "                    ### Write your solution here###\n",
    "    \n",
    "\n"
   ]
  },
  {
   "cell_type": "code",
   "execution_count": null,
   "metadata": {
    "collapsed": true
   },
   "outputs": [],
   "source": [
    "Write a program to get nestesed list as an input from the user and display in appropirate format?\n",
    "Input:\n",
    "3  \n",
    "Dev IT 25 F  \n",
    "Titan IT 23 M  \n",
    "Gagan CSE 22 F  \n",
    "\n",
    "Output :\n",
    "[  \n",
    "['Dev', 'IT', '24', 'F']  \n",
    "['Titan', 'IT', '23', 'M']  \n",
    "['Gagan', 'CSE', '22', 'F']  \n",
    "]  \n",
    "\n",
    "# Solution  :\n",
    "                    ### Write your solution here###"
   ]
  },
  {
   "cell_type": "code",
   "execution_count": null,
   "metadata": {
    "collapsed": true,
    "scrolled": true
   },
   "outputs": [],
   "source": [
    "Write a program to find the transpose of defined matrixA using LC and with step by step logic\n",
    "\n",
    "INPUT : matrixA = [[1, 2],[3,4],[5,6],[7,8]]\n",
    "OUTPUT : [[1, 3, 5, 7], [2, 4, 6, 8]]\n",
    "    \n",
    "    \n",
    "# Solution  :\n",
    "                    ### Write your solution here###\n"
   ]
  },
  {
   "cell_type": "code",
   "execution_count": null,
   "metadata": {
    "collapsed": true
   },
   "outputs": [],
   "source": [
    "There is an predefined method named count that determines how many times a specific value occurs in a list. \n",
    "Write a program to create a new function named 'RangecountValue' which determines the following\n",
    "\n",
    "returns the number of elements within a list that are greater than or equal to some minimum value and \n",
    "less than some maximum value. \n",
    "\n",
    "\n",
    "Three parameters to functions: the list, the minimum value and the maximum value. \n",
    "It will return an integer result greater than or equal to 0. \n",
    "\n",
    "Include a main program that demonstrates your function for several different lists, minimum values and maximum values. Ensure that your program works correctly\n",
    "for both lists of integers and lists of floating point numbers.\n",
    "\n",
    "\n",
    "\n",
    "# Solution  :\n",
    "                    ### Write your solution here###\n"
   ]
  },
  {
   "cell_type": "code",
   "execution_count": null,
   "metadata": {
    "collapsed": true
   },
   "outputs": [],
   "source": [
    " Write a program that reads words from the user and stores them in a list. \n",
    " Use \"stop\" as a sentinel value to mark the end of the input. \n",
    " Once all of the values have been read your program should display them (except for the 0) in reverse order, \n",
    "with one value appearing on each line.\n",
    "\n",
    "\n",
    "# Solution  :\n",
    "                    ### Write your solution here###"
   ]
  },
  {
   "cell_type": "code",
   "execution_count": null,
   "metadata": {
    "collapsed": true
   },
   "outputs": [],
   "source": [
    "Lists can be used to represent mathematical vectors. In this exercise and several that follow you will write functions to perform standard operations on vectors. Create a script named vectors.py and write Python code to pass the tests in each case.\n",
    "\n",
    "Write a function add_vectors(u, v) that takes two lists of numbers of the same length, and \n",
    "returns a new list containing the sums of the corresponding elements of each:\n",
    "\n",
    "   \n",
    "\n",
    "\n",
    "    test(add_vectors([1, 1], [1, 1]) == [2, 2])\n",
    "    test(add_vectors([1, 2], [1, 4]) == [2, 6])\n",
    "    test(add_vectors([1, 2, 1], [1, 4, 3]) == [2, 6, 4])\n",
    "\n",
    "    \n",
    "\n",
    "# Solution  :\n",
    "                    ### Write your solution here###"
   ]
  },
  {
   "cell_type": "code",
   "execution_count": null,
   "metadata": {
    "collapsed": true
   },
   "outputs": [],
   "source": [
    "Write a program which takes 2 digits, A,B as input and output 2D array.\n",
    "\n",
    "The element value in the M-th row and N-th column of the array is M*N.\n",
    "Note: M=0,1.., M-1; N=0,1,....N-1\n",
    "    \n",
    "Example\n",
    "Suppose the following inputs are given to the program:\n",
    "4,5\n",
    "Then, the output of the program should be:\n",
    "[[0, 0, 0, 0, 0], [0, 1, 2, 3, 4], [0, 2, 4, 6, 8],[0, 3, 6, 9, 12]] \n",
    "\n",
    "\n",
    "# Solution  :\n",
    "                    ### Write your solution here###"
   ]
  },
  {
   "cell_type": "code",
   "execution_count": null,
   "metadata": {
    "collapsed": true
   },
   "outputs": [],
   "source": [
    "You are required to write a program to sort the (name, age, height) tuples by ascending order where name is string, age and height are numbers. \n",
    "The tuples are input by console. \n",
    "\n",
    "The sort criteria is:\n",
    "1: Sort based on name;\n",
    "2: Then sort based on age;\n",
    "3: Then sort by score.\n",
    "The priority is that name > age > score.\n",
    "If the following tuples are given as input to the program:\n",
    "Tom,19,80\n",
    "John,20,90\n",
    "Jony,17,91\n",
    "Jony,17,93\n",
    "Json,21,85\n",
    "Then, the output of the program should be:\n",
    "[('John', '20', '90'), ('Jony', '17', '91'), ('Jony', '17', '93'), ('Json', '21', '85'), ('Tom', '19', '80')]\n",
    "\n",
    "Hints:\n",
    "In case of input data being supplied to the question, it should be assumed to be a console input.\n",
    "We use itemgetter to enable multiple sort keys.\n",
    "\n",
    "\n",
    "# Solution  :\n",
    "                    ### Write your solution here###"
   ]
  },
  {
   "cell_type": "code",
   "execution_count": 1,
   "metadata": {},
   "outputs": [
    {
     "ename": "SyntaxError",
     "evalue": "invalid syntax (<ipython-input-1-e35e4130b12c>, line 1)",
     "output_type": "error",
     "traceback": [
      "\u001b[0;36m  File \u001b[0;32m\"<ipython-input-1-e35e4130b12c>\"\u001b[0;36m, line \u001b[0;32m1\u001b[0m\n\u001b[0;31m    A roboCAR moves in a plane starting from the original point (0,0).\u001b[0m\n\u001b[0m            ^\u001b[0m\n\u001b[0;31mSyntaxError\u001b[0m\u001b[0;31m:\u001b[0m invalid syntax\n"
     ]
    }
   ],
   "source": [
    "A roboCAR moves in a plane starting from the original point. \n",
    "The robOCAR can move towarS Navigation NORTH, SOUTH, EAST and WEST with a given steps. \n",
    "The trace of robotCar movement is shown as Kms, the following:\n",
    "NORTH 5\n",
    "SOUTH 3\n",
    "EAST 3\n",
    "WEST 2\n",
    "\n",
    "The numbers after the direction are KMS,Crossed. \n",
    "\n",
    "Please write a program to compute total kms, covered based on the input provided\n",
    "If the distance is a float, then just print the nearest integer.\n",
    "Example:\n",
    "If the following tuples are given as input to the program:\n",
    "NORTH\n",
    "SOUTH\n",
    "NORTH\n",
    "EAST \n",
    "WEST\n",
    "\n",
    "Output:\n",
    "18\n",
    "\n",
    "Hints:\n",
    "In case of input data being supplied to the question, it should be assumed to be a console input.\n",
    "\n",
    "\n",
    "# Solution  :\n",
    "                    ### Write your solution here###"
   ]
  },
  {
   "cell_type": "code",
   "execution_count": null,
   "metadata": {
    "collapsed": true
   },
   "outputs": [],
   "source": [
    "Please write a program to generate all sentences where subject is in [\"I\", \"You\"] and verb is in [\"Play\", \"Love\"] \n",
    "and the object is in [\"Hockey\",\"Football\"].\n",
    "\n",
    "Hints:\n",
    "Use list[index] notation to get a element from a list.\n",
    "\n",
    "\n",
    "# Solution  :\n",
    "                    ### Write your solution here###"
   ]
  },
  {
   "cell_type": "code",
   "execution_count": null,
   "metadata": {
    "collapsed": true
   },
   "outputs": [],
   "source": [
    "With a given list [12,24,35,24,88,120,155,88,120,155], write a program to print this list after removing all duplicate \n",
    "values with original order reserved.\n",
    "\n",
    "Hints:\n",
    "Use set() to store a number of values without duplicate.\n",
    "\n",
    "\n",
    "# Solution  :\n",
    "                    ### Write your solution here###"
   ]
  },
  {
   "cell_type": "code",
   "execution_count": null,
   "metadata": {
    "collapsed": true
   },
   "outputs": [],
   "source": [
    "Given a number from 0 to 999,999,999,999, spell out that number in English.\n",
    "\n",
    "Step 1\n",
    "\n",
    "Handle the basic case of 0 through 99.\n",
    "\n",
    "If the input to the program is 22, then the output should be 'twenty-two'.\n",
    "\n",
    "Your program should complain loudly if given a number outside the blessed range.\n",
    "\n",
    "Some good test cases for this program are:\n",
    "\n",
    "    0\n",
    "    14\n",
    "    50\n",
    "    98\n",
    "    -1\n",
    "    100\n",
    "\n",
    "\n",
    "Step 2\n",
    "\n",
    "Implement breaking a number up into chunks of thousands.\n",
    "\n",
    "So 1234567890 should yield a list like 1, 234, 567, and 890, while the far simpler 1000 should yield just 1 and 0.\n",
    "\n",
    "The program must also report any values that are out of range.\n",
    "\n",
    "Step 3\n",
    "\n",
    "Now handle inserting the appropriate scale word between those chunks.\n",
    "\n",
    "So 1234567890 should yield '1 billion 234 million 567 thousand 890'\n",
    "\n",
    "The program must also report any values that are out of range. It's fine to stop at \"trillion\".\n",
    "Step 4\n",
    "\n",
    "Put it all together to get nothing but plain English.\n",
    "\n",
    "12345 should give twelve thousand three hundred forty-five.\n",
    "\n",
    "The program must also report any values that are out of range.\n",
    "Extensions\n",
    "\n",
    "Use and (correctly) when spelling out the number in English:\n",
    "\n",
    "    14 becomes \"fourteen\".\n",
    "    100 becomes \"one hundred\".\n",
    "    120 becomes \"one hundred and twenty\".\n",
    "    1002 becomes \"one thousand and two\".\n",
    "    1323 becomes \"one thousand three hundred and twenty-three\".\n",
    "    \n",
    "    \n",
    "\n",
    "# Solution  :\n",
    "                    ### Write your solution here###s\n"
   ]
  }
 ],
 "metadata": {
  "kernelspec": {
   "display_name": "Python 3",
   "language": "python",
   "name": "python3"
  },
  "language_info": {
   "codemirror_mode": {
    "name": "ipython",
    "version": 3
   },
   "file_extension": ".py",
   "mimetype": "text/x-python",
   "name": "python",
   "nbconvert_exporter": "python",
   "pygments_lexer": "ipython3",
   "version": "3.7.0"
  }
 },
 "nbformat": 4,
 "nbformat_minor": 2
}
