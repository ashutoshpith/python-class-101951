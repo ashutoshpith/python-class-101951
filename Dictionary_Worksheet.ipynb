{
 "cells": [
  {
   "cell_type": "code",
   "execution_count": null,
   "metadata": {
    "collapsed": true
   },
   "outputs": [],
   "source": [
    "# Preliminary - 1\n",
    "\n",
    "Create an dictionary with words as keys and Meaning of word as its values ?\n",
    "\n",
    "Word_dict = {'Python': 'interpreted high-level programming language',\n",
    "                'C': ' imperative computer programming language',\n",
    "                'Java': 'computer-programming language that is concurrent class-based and object-oriented',\n",
    "                }\n",
    "\n",
    "Write a program to print every values of key without using loop?\n",
    "\n",
    "Write a program to print all values in the dictionry using loop? [Hint : dictname.items()]\n",
    "\n",
    "Write a program to print all keys in the dictionry using loop? [Hint : dictname.keys()]\n",
    "\n",
    "Write a program to print all values in the dictionry using loop? [Hint : dictname.values()]\n",
    "\n",
    "\n"
   ]
  },
  {
   "cell_type": "code",
   "execution_count": null,
   "metadata": {
    "collapsed": true
   },
   "outputs": [],
   "source": [
    "# Enhance the code - Preliminary - 1 :\n",
    "\n",
    "# Hint : Nested Else if \n",
    "\n",
    "  1. Allow the user to choose a programming language name , and then display the meaning for that Programming.\n",
    "  \n",
    "  2. Allow the user to get word 'Quit' and display 'It doesnt recognize the Language' else ,\"BYE..!!\"\n",
    "    \n",
    "    \n",
    "# Enhance the code -2  Preliminary - 1 :\n",
    "\n",
    "We can use this loop to have fun by making it as an little quiz program. \n",
    "\n",
    "1. The program will display a meaning using 'Loop', and ask the user to guess the word that matches that meaning using 'If- Condition'.\n",
    "2. If the guess is right print as 'Logic Correct' else 'Sorry try again'\n",
    "3. The above will not iterate until the guess is right. Add a line to predict untill guess is right. [Hint : While condition]\n"
   ]
  },
  {
   "cell_type": "code",
   "execution_count": null,
   "metadata": {
    "collapsed": true
   },
   "outputs": [],
   "source": [
    "# Preliminary - 2 :\n",
    "\n",
    "Tall FLoor: https://en.wikipedia.org/wiki/List_of_tallest_buildings\n",
    "\n",
    "    Wikipedia has a list of the tallest building in the world, with each building's total floors. Pick five buildings from this list.\n",
    "        Create a dictionary with the building names as keys, and the totalfloor as values.\n",
    "        Print out just the building' names, by looping through the keys of your dictionary.\n",
    "        Print out just the building total floor, by looping through the values of your dictionary.\n",
    "        Print out a series of statements telling how many floors each building is: \"Shanghai towar has 125 floors.\"\n",
    "    Revise your output, if necessary.\n",
    "        Make sure there is an introductory sentence describing the output for each loop you write.\n",
    "        Make sure there is a blank line between each group of statements.\n",
    "\n",
    "Tall Floor 2\n",
    "\n",
    "    Revise your final output from building floors, so that the information is listed in alphabetical order by each building's name.\n",
    "    That is, print out a series of statements telling telling how many floors each building is: \"Shanghai towar has 125 floors.\"\n",
    "    Make sure your output is in alphabetical order.\n",
    "\n"
   ]
  },
  {
   "cell_type": "code",
   "execution_count": null,
   "metadata": {
    "collapsed": true
   },
   "outputs": [],
   "source": [
    "# Basic -1 \n",
    "\n",
    "Write a program to take key and value pair as an input from user add to dictionary name 'Dictofelement' \n",
    "\n",
    "#hint \n",
    "\n",
    "# soultion 1 : Update()\n",
    "# solution 2: get()\n",
    "# solution 3: Dict()\n",
    "# solution 4: Split() or strip()\n",
    "\n"
   ]
  },
  {
   "cell_type": "code",
   "execution_count": null,
   "metadata": {
    "collapsed": true
   },
   "outputs": [],
   "source": [
    "# Basic - 2\n",
    "\n",
    "Using dict comprehensions  to create dictionaries from arbitrary key and value expressions of following logic \n",
    "{2: 4, 4: 16, 6: 36}\n",
    "\n",
    "Python Program to Generate a Dictionary that Contains Numbers (between 1 and n) in the Form (x,x*x). "
   ]
  },
  {
   "cell_type": "code",
   "execution_count": null,
   "metadata": {
    "collapsed": true
   },
   "outputs": [],
   "source": [
    "#Basic - 3\n",
    "\n",
    "Write a program that takes dictionary 'Dictofelement' as an arugement to function 'DemoDictFunc' \n",
    "\n",
    "1. Print all the key value pairs using loop ?\n",
    "\n",
    "\n"
   ]
  },
  {
   "cell_type": "code",
   "execution_count": null,
   "metadata": {
    "collapsed": true
   },
   "outputs": [],
   "source": [
    "# Intermediate : Basic - 1\n",
    "\n",
    "Write an program takes a larger string and do the following,\n",
    "\n",
    "Logic : To creates a dictionary with key as first character , value as words starting with that character\n",
    "    \n",
    "Steps By Step Instruction to write a program :\n",
    "    \n",
    "1. User must get the string  and store it in a variable 'string_L'.\n",
    "2. An empty dictionary is declared ,'d={}'.\n",
    "3. The string is split into words and is stored in a list,'Using Split()'.\n",
    "4. A for loop is used to traverse through the words in the list.\n",
    "         An if statement is used to check if the word already present as a key in the dictionary by c.\n",
    "6. If it is not present, the letter of the word is initialized as the key and the word as the value and they are append to a sublist created in the list.\n",
    "7. If it is present, the word is added as the value to the corresponding sublist.\n",
    "8. The final dictionary is printed."
   ]
  },
  {
   "cell_type": "code",
   "execution_count": null,
   "metadata": {
    "collapsed": true
   },
   "outputs": [],
   "source": [
    "# Intermediate : Basic - 2\n",
    "\n",
    "Write a python program to accept a sentence and generate the frequency of words for the same\n",
    "\n",
    "Hint : Frequency of words means number of words occurs in a sentence\n",
    "    \n",
    "Input :\n",
    "    I  have a car and i love the car\n",
    "I : 2\n",
    "Have : 1\n",
    "a : 1\n",
    "car :2 \n",
    "and  : 1\n",
    "the : 1\n",
    "    \n",
    "Logic   :\n",
    "    \n",
    "1. REad the sentence\n",
    "2. Split the words from sentence and store it in variable\n",
    "3. store the count of words as values by creating empty dict and store the values in it.\n",
    "3. Iterate to print the result."
   ]
  },
  {
   "cell_type": "code",
   "execution_count": null,
   "metadata": {
    "collapsed": true
   },
   "outputs": [],
   "source": [
    "# Intermediate : Implementation\n",
    "\n",
    "Write a python program to accept a sentence and generate the frequency of alphabets for the same"
   ]
  },
  {
   "cell_type": "code",
   "execution_count": null,
   "metadata": {
    "collapsed": true
   },
   "outputs": [],
   "source": [
    "# Intermediate : Basic -2\n",
    "\n",
    "Defined List 'values ' with dictionary  'keys':\n",
    "\n",
    "favorite_numbers = {'Ram': [3, 11, 19, 23, 42],\n",
    "                    'Sam': [2, 4, 5],\n",
    "                    'Raj': [5, 35, 120],\n",
    "                    }\n",
    "\n",
    "Write a code to print all values of key without using loop?\n",
    "\n",
    "Write a code to iterate through dictionary to print its associate values?\n",
    "\n",
    "Write a code to print the keys only.\n",
    "\n",
    "Write a code to print the all values as new list.\n",
    "\n",
    "Write a code to get above defined \"favorite_number\" dictionary as an input from the dictionary\n",
    "\n"
   ]
  },
  {
   "cell_type": "code",
   "execution_count": null,
   "metadata": {
    "collapsed": true
   },
   "outputs": [],
   "source": [
    "# Intermediate : Basic -2\n",
    "\n",
    "\n",
    "# dictionary with dictionary\n",
    "\n",
    "\n",
    "Defined dictionary as  'values ' with   'keys':\n",
    "\n",
    "pets = {'jack': {'Type': 'dog', 'owner': 'Ram'},\n",
    "        'Hero': {'Type': 'cockroach', 'owner': 'Sam'},\n",
    "        'mono': {'Type': 'dog', 'owner': 'Raj'},\n",
    "        }\n",
    "\n",
    "Write a code to print all values of key without using loop?\n",
    "\n",
    "Write a code to iterate through dictionary to print its associate values?\n",
    "\n",
    "Write a code to print the keys only.\n",
    "\n",
    "Write a code to print the all values as new list.\n",
    "\n",
    "Write a code to get above defined \"pets\" dictionary as an input from the dictionary.\n"
   ]
  }
 ],
 "metadata": {
  "kernelspec": {
   "display_name": "Python 3",
   "language": "python",
   "name": "python3"
  },
  "language_info": {
   "codemirror_mode": {
    "name": "ipython",
    "version": 3
   },
   "file_extension": ".py",
   "mimetype": "text/x-python",
   "name": "python",
   "nbconvert_exporter": "python",
   "pygments_lexer": "ipython3",
   "version": "3.7.0"
  }
 },
 "nbformat": 4,
 "nbformat_minor": 2
}
